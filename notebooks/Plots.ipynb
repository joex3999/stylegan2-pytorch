{
 "cells": [
  {
   "cell_type": "code",
   "execution_count": 1,
   "metadata": {},
   "outputs": [],
   "source": [
    "import pandas as pd\n",
    "import numpy as np\n",
    "from pathlib import Path\n",
    "import json\n",
    "import os\n",
    "import collections\n",
    "import matplotlib.pyplot as plt\n",
    "from pathlib import Path"
   ]
  },
  {
   "cell_type": "markdown",
   "metadata": {},
   "source": [
    "# Plotting FIDS"
   ]
  },
  {
   "cell_type": "code",
   "execution_count": 2,
   "metadata": {},
   "outputs": [],
   "source": [
    "# ## Just loading the fids\n",
    "# location = \"/usrhomes/g013/SemanticStyleGAN/fids/fids_v1.json\"\n",
    "# print(location)\n",
    "# f = open(location)\n",
    "# fids = json.load(f)\n",
    "# print(fids)"
   ]
  },
  {
   "cell_type": "code",
   "execution_count": 3,
   "metadata": {},
   "outputs": [],
   "source": [
    "#Funcrtiomn to sort a dictionary either based on keys or values\n",
    "def save_sorted(location,sort_keys=True) -> dict:\n",
    "    f = open(location)\n",
    "    fids = json.load(f)\n",
    "   \n",
    "    if sort_keys:\n",
    "        sorted_fids = sorted(fids.items(), key=lambda kv: kv[0])\n",
    "    else:\n",
    "        sorted_fids = sorted(fids.items(), key=lambda kv: kv[1])\n",
    "    sorted_fids=collections.OrderedDict(sorted_fids)\n",
    "   \n",
    "    with open(location, 'w') as fp:\n",
    "        json.dump(sorted_fids, fp)\n",
    "    return sorted_fids"
   ]
  },
  {
   "cell_type": "code",
   "execution_count": 4,
   "metadata": {},
   "outputs": [],
   "source": [
    "def plot_fids(location,save=False):\n",
    "    sorted_fids=save_sorted(location,sort_keys=True)\n",
    "    x_keys = np.fromiter(sorted_fids.keys(),dtype=float)/1000\n",
    "    y_values = np.fromiter(sorted_fids.values(),dtype=float)\n",
    "    plt.plot(x_keys,y_values)\n",
    "    plt.yticks(np.arange(min(y_values),max(y_values),10))\n",
    "    plt.xlabel(\"Iterations in Thousand\")\n",
    "    plt.ylabel(\"FID Values\")\n",
    "    plt.xticks(rotation='vertical')\n",
    "    if save:\n",
    "            location =Path(location)\n",
    "            plt.savefig(str(location.parent/location.stem)+\".png\", bbox_inches='tight')\n",
    "    else:\n",
    "            plt.show()\n",
    "    min_key = x_keys[np.where(y_values == np.amin(y_values))[0]][0]\n",
    "    print(f\" Minimum FID is {min(y_values)} at iteration {min_key}k\")\n"
   ]
  },
  {
   "cell_type": "code",
   "execution_count": null,
   "metadata": {},
   "outputs": [],
   "source": []
  },
  {
   "cell_type": "code",
   "execution_count": null,
   "metadata": {},
   "outputs": [],
   "source": []
  },
  {
   "cell_type": "code",
   "execution_count": 18,
   "metadata": {},
   "outputs": [
    {
     "name": "stdout",
     "output_type": "stream",
     "text": [
      " Minimum FID is 6.911313064841863 at iteration 170.0k\n"
     ]
    },
    {
     "data": {
      "image/png": "[encoded data removed]",
      "text/plain": [
       "<Figure size 432x288 with 1 Axes>"
      ]
     },
     "metadata": {
      "needs_background": "light"
     },
     "output_type": "display_data"
    }
   ],
   "source": [
    "location = \"/usr/stud/faragy/storage/user/main/faragy/stylegan2-pytorch/fids/fids_25k_16B.json\"\n",
    "plot_fids(location,save=True)\n"
   ]
  },
  {
   "cell_type": "code",
   "execution_count": null,
   "metadata": {},
   "outputs": [],
   "source": [
    "min(x)"
   ]
  }
 ],
 "metadata": {
  "kernelspec": {
   "display_name": "Python 3.9.12 ('env': conda)",
   "language": "python",
   "name": "python3"
  },
  "language_info": {
   "codemirror_mode": {
    "name": "ipython",
    "version": 3
   },
   "file_extension": ".py",
   "mimetype": "text/x-python",
   "name": "python",
   "nbconvert_exporter": "python",
   "pygments_lexer": "ipython3",
   "version": "3.9.12"
  },
  "orig_nbformat": 4,
  "vscode": {
   "interpreter": {
    "hash": "3d7fb738a222c2b75f597de638cb4a5050e01a8d2927f5b3984dbaad8d93e00a"
   }
  }
 },
 "nbformat": 4,
 "nbformat_minor": 2
}
